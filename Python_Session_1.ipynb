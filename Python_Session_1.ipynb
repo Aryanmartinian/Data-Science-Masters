{
 "cells": [
  {
   "cell_type": "markdown",
   "id": "45a1839f",
   "metadata": {},
   "source": [
    "### Python Basics - "
   ]
  },
  {
   "cell_type": "code",
   "execution_count": 1,
   "id": "9d1184be",
   "metadata": {},
   "outputs": [
    {
     "name": "stdout",
     "output_type": "stream",
     "text": [
      "Hello World\n"
     ]
    }
   ],
   "source": [
    "# Python is a case sensitive language\n",
    "print('Hello World')"
   ]
  },
  {
   "cell_type": "code",
   "execution_count": 1,
   "id": "7fbc70db",
   "metadata": {},
   "outputs": [
    {
     "name": "stdout",
     "output_type": "stream",
     "text": [
      "7.7\n"
     ]
    }
   ],
   "source": [
    "print(7.7)"
   ]
  },
  {
   "cell_type": "code",
   "execution_count": 2,
   "id": "e33d5329",
   "metadata": {},
   "outputs": [
    {
     "name": "stdout",
     "output_type": "stream",
     "text": [
      "True\n"
     ]
    }
   ],
   "source": [
    "print(True)"
   ]
  },
  {
   "cell_type": "code",
   "execution_count": 3,
   "id": "0f17d3be",
   "metadata": {},
   "outputs": [
    {
     "name": "stdout",
     "output_type": "stream",
     "text": [
      "Hello 1 4.5 True\n"
     ]
    }
   ],
   "source": [
    "print('Hello',1,4.5,True)"
   ]
  },
  {
   "cell_type": "code",
   "execution_count": 4,
   "id": "9d0f637b",
   "metadata": {},
   "outputs": [
    {
     "name": "stdout",
     "output_type": "stream",
     "text": [
      "Hello/1/4.5\n"
     ]
    }
   ],
   "source": [
    "print('Hello',1,4.5,sep='/')"
   ]
  },
  {
   "cell_type": "code",
   "execution_count": 5,
   "id": "98e02249",
   "metadata": {},
   "outputs": [
    {
     "name": "stdout",
     "output_type": "stream",
     "text": [
      "hello\n",
      "World\n"
     ]
    }
   ],
   "source": [
    "print('hello')\n",
    "print('World')"
   ]
  },
  {
   "cell_type": "code",
   "execution_count": 7,
   "id": "fcb842c9",
   "metadata": {},
   "outputs": [
    {
     "name": "stdout",
     "output_type": "stream",
     "text": [
      "hello-world\n"
     ]
    }
   ],
   "source": [
    "print('hello',end='-')\n",
    "print('world')"
   ]
  },
  {
   "cell_type": "markdown",
   "id": "bef7dd43",
   "metadata": {},
   "source": [
    "### 2. Data Types "
   ]
  },
  {
   "cell_type": "code",
   "execution_count": null,
   "id": "15f2d436",
   "metadata": {},
   "outputs": [
    {
     "name": "stdout",
     "output_type": "stream",
     "text": [
      "inf\n"
     ]
    }
   ],
   "source": [
    "print(1e309) # 1*10^309"
   ]
  },
  {
   "cell_type": "code",
   "execution_count": null,
   "id": "9d87b31c",
   "metadata": {},
   "outputs": [
    {
     "name": "stdout",
     "output_type": "stream",
     "text": [
      "1e+308\n"
     ]
    }
   ],
   "source": [
    "print(1e308) # Python integer data type can handle till the value of 10^308"
   ]
  },
  {
   "cell_type": "code",
   "execution_count": null,
   "id": "a3d1eb50",
   "metadata": {},
   "outputs": [
    {
     "name": "stdout",
     "output_type": "stream",
     "text": [
      "8.55\n",
      "1.7e+300\n"
     ]
    }
   ],
   "source": [
    "# Decimal/Float\n",
    "print(8.55)\n",
    "print(1.7e300) # Maximum Float value that Python can handle"
   ]
  },
  {
   "cell_type": "code",
   "execution_count": 11,
   "id": "4c1fd4df",
   "metadata": {},
   "outputs": [
    {
     "name": "stdout",
     "output_type": "stream",
     "text": [
      "True\n",
      "False\n"
     ]
    }
   ],
   "source": [
    "# Boolean -\n",
    "print(True)\n",
    "print(False)"
   ]
  },
  {
   "cell_type": "code",
   "execution_count": 12,
   "id": "464f79e1",
   "metadata": {},
   "outputs": [
    {
     "name": "stdout",
     "output_type": "stream",
     "text": [
      "(5+6j)\n"
     ]
    }
   ],
   "source": [
    "# complex -\n",
    "print(5+6j)"
   ]
  },
  {
   "cell_type": "code",
   "execution_count": 13,
   "id": "d8f28c69",
   "metadata": {},
   "outputs": [
    {
     "name": "stdout",
     "output_type": "stream",
     "text": [
      "[1, 2, 3, 4, 5]\n"
     ]
    }
   ],
   "source": [
    "# List -> Array\n",
    "print([1,2,3,4,5])"
   ]
  },
  {
   "cell_type": "code",
   "execution_count": 14,
   "id": "9e10c7e8",
   "metadata": {},
   "outputs": [
    {
     "name": "stdout",
     "output_type": "stream",
     "text": [
      "(1, 2, 3, 4, 5)\n"
     ]
    }
   ],
   "source": [
    "# Tuple \n",
    "print((1,2,3,4,5))"
   ]
  },
  {
   "cell_type": "code",
   "execution_count": 15,
   "id": "c6b39d97",
   "metadata": {},
   "outputs": [
    {
     "name": "stdout",
     "output_type": "stream",
     "text": [
      "{1, 2, 3, 4, 5}\n"
     ]
    }
   ],
   "source": [
    "# Sets\n",
    "print({1,2,3,4,5})"
   ]
  },
  {
   "cell_type": "code",
   "execution_count": 16,
   "id": "92c0211d",
   "metadata": {},
   "outputs": [
    {
     "name": "stdout",
     "output_type": "stream",
     "text": [
      "{'name': 'Aryan', 'gender': 'Male'}\n"
     ]
    }
   ],
   "source": [
    "# Dictionary \n",
    "print({'name':'Aryan','gender':'Male'})"
   ]
  },
  {
   "cell_type": "code",
   "execution_count": 17,
   "id": "001adef2",
   "metadata": {},
   "outputs": [
    {
     "name": "stdout",
     "output_type": "stream",
     "text": [
      "Best skills\n"
     ]
    }
   ],
   "source": [
    "# Text/ String - Python does not have character datatype\n",
    "print(\"Best skills\")"
   ]
  },
  {
   "cell_type": "code",
   "execution_count": 19,
   "id": "2a19c7ab",
   "metadata": {},
   "outputs": [
    {
     "data": {
      "text/plain": [
       "list"
      ]
     },
     "execution_count": 19,
     "metadata": {},
     "output_type": "execute_result"
    }
   ],
   "source": [
    "type(3.5)\n",
    "type(3)\n",
    "type([1,2,3])"
   ]
  },
  {
   "cell_type": "markdown",
   "id": "96eccd09",
   "metadata": {},
   "source": [
    "### 3. Variables"
   ]
  },
  {
   "cell_type": "code",
   "execution_count": 20,
   "id": "a873be9b",
   "metadata": {},
   "outputs": [
    {
     "name": "stdout",
     "output_type": "stream",
     "text": [
      "Aryan\n"
     ]
    }
   ],
   "source": [
    "name = 'Aryan'\n",
    "print(name)"
   ]
  },
  {
   "cell_type": "code",
   "execution_count": 21,
   "id": "c2928891",
   "metadata": {},
   "outputs": [
    {
     "name": "stdout",
     "output_type": "stream",
     "text": [
      "11\n"
     ]
    }
   ],
   "source": [
    "a = 5\n",
    "b = 6\n",
    "print(a+b)"
   ]
  },
  {
   "cell_type": "code",
   "execution_count": 23,
   "id": "fe464e6c",
   "metadata": {},
   "outputs": [
    {
     "name": "stdout",
     "output_type": "stream",
     "text": [
      "5\n"
     ]
    }
   ],
   "source": [
    "# Dynamic Typing -\n",
    "a = 5 \n",
    "print(a)"
   ]
  },
  {
   "cell_type": "code",
   "execution_count": null,
   "id": "e092d87a",
   "metadata": {},
   "outputs": [
    {
     "name": "stdout",
     "output_type": "stream",
     "text": [
      "5\n",
      "Aryan\n"
     ]
    }
   ],
   "source": [
    "# Dynamic Binding - Value of a variable can be changed in the program which is not possible in java and cpp as they support static binding\n",
    "a = 5\n",
    "print(a)\n",
    "a = \"Aryan\"\n",
    "print(a)"
   ]
  },
  {
   "cell_type": "code",
   "execution_count": 25,
   "id": "a9058896",
   "metadata": {},
   "outputs": [
    {
     "name": "stdout",
     "output_type": "stream",
     "text": [
      "1 2 3\n"
     ]
    }
   ],
   "source": [
    "a,b,c = 1,2,3\n",
    "print(a,b,c)"
   ]
  },
  {
   "cell_type": "markdown",
   "id": "cf0a6a57",
   "metadata": {},
   "source": [
    "### 5. User Input "
   ]
  },
  {
   "cell_type": "code",
   "execution_count": 26,
   "id": "beb25467",
   "metadata": {},
   "outputs": [
    {
     "data": {
      "text/plain": [
       "'aryan.martinian@gmail.com'"
      ]
     },
     "execution_count": 26,
     "metadata": {},
     "output_type": "execute_result"
    }
   ],
   "source": [
    "input(\"Enter Email\")"
   ]
  },
  {
   "cell_type": "code",
   "execution_count": 28,
   "id": "822c4df9",
   "metadata": {},
   "outputs": [
    {
     "name": "stdout",
     "output_type": "stream",
     "text": [
      "9\n"
     ]
    }
   ],
   "source": [
    "a = int(input(\"Enter the number:\"))\n",
    "b = int(input(\"Enter the second number\"))\n",
    "c = a+b\n",
    "print(c)"
   ]
  },
  {
   "cell_type": "code",
   "execution_count": null,
   "id": "2c8b1772",
   "metadata": {},
   "outputs": [
    {
     "data": {
      "text/plain": [
       "int"
      ]
     },
     "execution_count": 30,
     "metadata": {},
     "output_type": "execute_result"
    }
   ],
   "source": [
    "# Type Conversion - Implicit vs Explicit \n",
    "# Implicit - the conversion happened by the interpreter itself\n",
    "# Explicit - the conversion happened by the program\n",
    "type(int('4')) # Explicit Conversion "
   ]
  },
  {
   "cell_type": "code",
   "execution_count": 31,
   "id": "1344534d",
   "metadata": {},
   "outputs": [
    {
     "name": "stdout",
     "output_type": "stream",
     "text": [
      "This is Python\n",
      "This is Python\n",
      "C\n",
      "This is a multiline string with more than one line code.\n",
      "😀😆🤣\n",
      "raw \\n string\n"
     ]
    }
   ],
   "source": [
    "string = \"This is Python\"\n",
    "strings = \"This is Python\"\n",
    "char = \"C\"\n",
    "multiline_str = \"\"\"This is a multiline string with more than one line code.\"\"\"\n",
    "unicode = u\"\\U0001f600\\U0001F606\\U0001F923\"\n",
    "raw_str = r\"raw \\n string\"\n",
    "\n",
    "print(string)\n",
    "print(strings)\n",
    "print(char)\n",
    "print(multiline_str)\n",
    "print(unicode)\n",
    "print(raw_str)"
   ]
  },
  {
   "cell_type": "code",
   "execution_count": null,
   "id": "9b6173bd",
   "metadata": {},
   "outputs": [
    {
     "name": "stdout",
     "output_type": "stream",
     "text": [
      "a: 5\n",
      "b: 10\n"
     ]
    }
   ],
   "source": [
    "a = True+4 # True - 1 \n",
    "b = False+10 # False - 0\n",
    "print(\"a:\",a)\n",
    "print(\"b:\",b)"
   ]
  },
  {
   "cell_type": "code",
   "execution_count": 33,
   "id": "c7d7913e",
   "metadata": {},
   "outputs": [
    {
     "name": "stdout",
     "output_type": "stream",
     "text": [
      "None\n"
     ]
    }
   ],
   "source": [
    "a = None\n",
    "print(a)"
   ]
  },
  {
   "cell_type": "code",
   "execution_count": null,
   "id": "7287581a",
   "metadata": {},
   "outputs": [],
   "source": []
  }
 ],
 "metadata": {
  "kernelspec": {
   "display_name": "base",
   "language": "python",
   "name": "python3"
  },
  "language_info": {
   "codemirror_mode": {
    "name": "ipython",
    "version": 3
   },
   "file_extension": ".py",
   "mimetype": "text/x-python",
   "name": "python",
   "nbconvert_exporter": "python",
   "pygments_lexer": "ipython3",
   "version": "3.10.10"
  }
 },
 "nbformat": 4,
 "nbformat_minor": 5
}
