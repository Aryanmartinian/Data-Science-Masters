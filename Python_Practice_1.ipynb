{
 "cells": [
  {
   "cell_type": "code",
   "execution_count": 4,
   "id": "f1bfd69b",
   "metadata": {},
   "outputs": [
    {
     "name": "stdout",
     "output_type": "stream",
     "text": [
      "Data-Science-Mentorship-Program-By-CampusX\n"
     ]
    }
   ],
   "source": [
    "# Task 1- \n",
    "# Q 1 . Print the given strings - \n",
    "print('Data',end='-')\n",
    "print('Science',end='-')\n",
    "print('Mentorship',end='-')\n",
    "print('Program',end='-')\n",
    "print('By',end='-')\n",
    "print('CampusX')"
   ]
  },
  {
   "cell_type": "code",
   "execution_count": null,
   "id": "0274016d",
   "metadata": {},
   "outputs": [
    {
     "name": "stdout",
     "output_type": "stream",
     "text": [
      "Data-Science-Mentorship-Program-By-CampusX\n"
     ]
    }
   ],
   "source": [
    "# print(\"Data Science Mentorship Program By CampusX\",sep='/') - wrong use of separator\n",
    "print('Data','Science','Mentorship','Program','By','CampusX',sep='-') # Correct code"
   ]
  },
  {
   "cell_type": "code",
   "execution_count": 8,
   "id": "48a9a10d",
   "metadata": {},
   "outputs": [
    {
     "name": "stdout",
     "output_type": "stream",
     "text": [
      "80.6\n"
     ]
    }
   ],
   "source": [
    "# Q2. Convert Celsius into Fahrenheit - \n",
    "cel = int(input(\"Enter the temperature in Celsius:\"))\n",
    "fah = (cel*9/5) + 32\n",
    "print(fah)"
   ]
  },
  {
   "cell_type": "code",
   "execution_count": 12,
   "id": "edf97bd2",
   "metadata": {},
   "outputs": [
    {
     "name": "stdout",
     "output_type": "stream",
     "text": [
      "6 5\n"
     ]
    }
   ],
   "source": [
    "# Q3. Swap two numbers -\n",
    "a = int(input(\"Enter the first number:\")) # 5\n",
    "b = int(input(\"Enter the second number:\")) # 6\n",
    "a = a+b # 11\n",
    "b = a-b # 5\n",
    "a = a-b \n",
    "print(a,b)"
   ]
  },
  {
   "cell_type": "code",
   "execution_count": 13,
   "id": "56000a33",
   "metadata": {},
   "outputs": [
    {
     "name": "stdout",
     "output_type": "stream",
     "text": [
      "72.0\n"
     ]
    }
   ],
   "source": [
    "# Q4. Simple Interest Program -\n",
    "pr = int(input(\"Enter the principal:\"))\n",
    "r = int(input(\"Enter the rate of interest:\"))\n",
    "t = int(input(\"Enter the time interval:\"))\n",
    "si = (pr*r*t)/100\n",
    "print(si)"
   ]
  },
  {
   "cell_type": "code",
   "execution_count": null,
   "id": "9f73f6f7",
   "metadata": {},
   "outputs": [],
   "source": []
  }
 ],
 "metadata": {
  "kernelspec": {
   "display_name": "base",
   "language": "python",
   "name": "python3"
  },
  "language_info": {
   "codemirror_mode": {
    "name": "ipython",
    "version": 3
   },
   "file_extension": ".py",
   "mimetype": "text/x-python",
   "name": "python",
   "nbconvert_exporter": "python",
   "pygments_lexer": "ipython3",
   "version": "3.10.10"
  }
 },
 "nbformat": 4,
 "nbformat_minor": 5
}
