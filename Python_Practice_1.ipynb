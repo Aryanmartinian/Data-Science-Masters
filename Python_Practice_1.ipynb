{
 "cells": [
  {
   "cell_type": "markdown",
   "id": "cf7c4931",
   "metadata": {},
   "source": [
    "### Task 1,2,3 solutions - "
   ]
  },
  {
   "cell_type": "code",
   "execution_count": 4,
   "id": "f1bfd69b",
   "metadata": {},
   "outputs": [
    {
     "name": "stdout",
     "output_type": "stream",
     "text": [
      "Data-Science-Mentorship-Program-By-CampusX\n"
     ]
    }
   ],
   "source": [
    "# Task 1- \n",
    "# Q 1 . Print the given strings - \n",
    "print('Data',end='-')\n",
    "print('Science',end='-')\n",
    "print('Mentorship',end='-')\n",
    "print('Program',end='-')\n",
    "print('By',end='-')\n",
    "print('CampusX')"
   ]
  },
  {
   "cell_type": "code",
   "execution_count": null,
   "id": "0274016d",
   "metadata": {},
   "outputs": [
    {
     "name": "stdout",
     "output_type": "stream",
     "text": [
      "Data-Science-Mentorship-Program-By-CampusX\n"
     ]
    }
   ],
   "source": [
    "# print(\"Data Science Mentorship Program By CampusX\",sep='/') - wrong use of separator\n",
    "print('Data','Science','Mentorship','Program','By','CampusX',sep='-') # Correct code"
   ]
  },
  {
   "cell_type": "code",
   "execution_count": 8,
   "id": "48a9a10d",
   "metadata": {},
   "outputs": [
    {
     "name": "stdout",
     "output_type": "stream",
     "text": [
      "80.6\n"
     ]
    }
   ],
   "source": [
    "# Q2. Convert Celsius into Fahrenheit - \n",
    "cel = int(input(\"Enter the temperature in Celsius:\"))\n",
    "fah = (cel*9/5) + 32\n",
    "print(fah)"
   ]
  },
  {
   "cell_type": "code",
   "execution_count": 12,
   "id": "edf97bd2",
   "metadata": {},
   "outputs": [
    {
     "name": "stdout",
     "output_type": "stream",
     "text": [
      "6 5\n"
     ]
    }
   ],
   "source": [
    "# Q3. Swap two numbers -\n",
    "a = int(input(\"Enter the first number:\")) # 5\n",
    "b = int(input(\"Enter the second number:\")) # 6\n",
    "a = a+b # 11\n",
    "b = a-b # 5\n",
    "a = a-b \n",
    "print(a,b)"
   ]
  },
  {
   "cell_type": "code",
   "execution_count": 13,
   "id": "56000a33",
   "metadata": {},
   "outputs": [
    {
     "name": "stdout",
     "output_type": "stream",
     "text": [
      "72.0\n"
     ]
    }
   ],
   "source": [
    "# Q4. Simple Interest Program -\n",
    "pr = int(input(\"Enter the principal:\"))\n",
    "r = int(input(\"Enter the rate of interest:\"))\n",
    "t = int(input(\"Enter the time interval:\"))\n",
    "si = (pr*r*t)/100\n",
    "print(si)"
   ]
  },
  {
   "cell_type": "code",
   "execution_count": 16,
   "id": "9f73f6f7",
   "metadata": {},
   "outputs": [
    {
     "name": "stdout",
     "output_type": "stream",
     "text": [
      "30\n"
     ]
    }
   ],
   "source": [
    "# Q7. Sum of Squares of first N natural numbers - \n",
    "n = int(input(\"Enter the number:\"))\n",
    "total = 0\n",
    "for i in range(1,n+1):\n",
    "    total+=i*i\n",
    "print(total)\n"
   ]
  },
  {
   "cell_type": "code",
   "execution_count": 17,
   "id": "2ff7c28b",
   "metadata": {},
   "outputs": [
    {
     "name": "stdout",
     "output_type": "stream",
     "text": [
      "The sum of the two fractions is: 4/3\n"
     ]
    }
   ],
   "source": [
    "# Taking inputs for the first fraction\n",
    "num1 = int(input(\"Enter numerator of first fraction: \"))\n",
    "den1 = int(input(\"Enter denominator of first fraction: \"))\n",
    "\n",
    "# Taking inputs for the second fraction\n",
    "num2 = int(input(\"Enter numerator of second fraction: \"))\n",
    "den2 = int(input(\"Enter denominator of second fraction: \"))\n",
    "\n",
    "sum_num = num1 * den2 + num2 * den1\n",
    "sum_den = den1 * den2\n",
    "\n",
    "# Reducing the fraction to simplest form\n",
    "def gcd(a, b):\n",
    "    while b:\n",
    "        a, b = b, a % b\n",
    "    return a\n",
    "\n",
    "common_factor = gcd(sum_num, sum_den)\n",
    "sum_num = sum_num // common_factor\n",
    "sum_den = sum_den // common_factor\n",
    "\n",
    "print(f\"The sum of the two fractions is: {sum_num}/{sum_den}\")\n"
   ]
  },
  {
   "cell_type": "code",
   "execution_count": 2,
   "id": "10160fe1",
   "metadata": {},
   "outputs": [
    {
     "name": "stdout",
     "output_type": "stream",
     "text": [
      "Armstrong Number\n"
     ]
    }
   ],
   "source": [
    "# Armstrong number program - 153 - 1*1*1+5*5*5+3*3*3 = 153\n",
    "num = int(input('Enter the number:'))\n",
    "temp = num\n",
    "cubesum=0\n",
    "while (temp!=0):\n",
    "    r = temp%10\n",
    "    cubesum+=r*r*r\n",
    "    temp = temp//10\n",
    "\n",
    "if(cubesum==num):\n",
    "    print('Armstrong Number')\n",
    "else:\n",
    "    print('Not a Armstrong Number')\n"
   ]
  },
  {
   "cell_type": "code",
   "execution_count": 3,
   "id": "1f2b8928",
   "metadata": {},
   "outputs": [
    {
     "name": "stdout",
     "output_type": "stream",
     "text": [
      "[3, 5]\n"
     ]
    }
   ],
   "source": [
    "# Print Prime Numbers Present Between the Intervals -\n",
    "low = int(input('Enter the starting range of the number:'))\n",
    "high = int(input('Enter the ending range of the number:'))\n",
    "res = []\n",
    "for  i in range(low,high+1):\n",
    "    if i%2==0:\n",
    "        continue\n",
    "    else:\n",
    "        res.append(i)\n",
    "print(res)"
   ]
  },
  {
   "cell_type": "code",
   "execution_count": 7,
   "id": "8c19d176",
   "metadata": {},
   "outputs": [
    {
     "name": "stdout",
     "output_type": "stream",
     "text": [
      "225\n"
     ]
    }
   ],
   "source": [
    "# Cube Sum of first N Natural Numbers - \n",
    "n = int(input('Enter the number till the cube sum wants to print:'))\n",
    "cubesum=0\n",
    "for i in range(1,n+1):\n",
    "    cubesum+=i**3\n",
    "print(cubesum)"
   ]
  },
  {
   "cell_type": "code",
   "execution_count": null,
   "id": "d4d69b97",
   "metadata": {},
   "outputs": [
    {
     "name": "stdout",
     "output_type": "stream",
     "text": [
      "180\n"
     ]
    }
   ],
   "source": [
    "# sum of elements present in the array-\n",
    "arr = [12,34,56,78]\n",
    "sum = 0\n",
    "for i in arr:\n",
    "    sum+=i\n",
    "\n",
    "print(sum)"
   ]
  },
  {
   "cell_type": "code",
   "execution_count": 9,
   "id": "a980e81a",
   "metadata": {},
   "outputs": [
    {
     "name": "stdout",
     "output_type": "stream",
     "text": [
      "90\n"
     ]
    }
   ],
   "source": [
    "arr = [12,34,56,78,90]\n",
    "largest = arr[0]\n",
    "for i in arr:\n",
    "    if largest<i:\n",
    "        largest = i\n",
    "print(largest)"
   ]
  },
  {
   "cell_type": "code",
   "execution_count": 10,
   "id": "ae52f2e5",
   "metadata": {},
   "outputs": [
    {
     "name": "stdout",
     "output_type": "stream",
     "text": [
      "[16, 25, 32, 12]\n"
     ]
    }
   ],
   "source": [
    "# Interchange the first and last element in the list - \n",
    "mylist = [12,25,32,16]\n",
    "mylist[0],mylist[-1] = mylist[-1],mylist[0]\n",
    "print(mylist)"
   ]
  },
  {
   "cell_type": "code",
   "execution_count": 11,
   "id": "59e299b7",
   "metadata": {},
   "outputs": [
    {
     "name": "stdout",
     "output_type": "stream",
     "text": [
      "[12, 3, 7, 56, 4, 8]\n"
     ]
    }
   ],
   "source": [
    "# swap two elements in the list - \n",
    "a = [12,3,4,56,7,8]\n",
    "temp = a[2]\n",
    "a[2] = a[4]\n",
    "a[4] = temp \n",
    "print(a)"
   ]
  },
  {
   "cell_type": "code",
   "execution_count": 15,
   "id": "e5b60b50",
   "metadata": {},
   "outputs": [
    {
     "name": "stdout",
     "output_type": "stream",
     "text": [
      "Element present in the list\n"
     ]
    }
   ],
   "source": [
    "# check if an element present in the list - \n",
    "L = [12,3,4,5,6,7,8]\n",
    "element = int(input('Enter the element to find in the list:'))\n",
    "for i in L:\n",
    "    if i==element:\n",
    "        print('Element present in the list')\n",
    "        break"
   ]
  },
  {
   "cell_type": "code",
   "execution_count": 16,
   "id": "2efa4441",
   "metadata": {},
   "outputs": [
    {
     "name": "stdout",
     "output_type": "stream",
     "text": [
      "80\n"
     ]
    }
   ],
   "source": [
    "# sum of elements in the list - \n",
    "L = [12,23,45]\n",
    "sum=0\n",
    "for i in L:\n",
    "    sum+=i\n",
    "print(sum)\n"
   ]
  },
  {
   "cell_type": "code",
   "execution_count": 17,
   "id": "e372b536",
   "metadata": {},
   "outputs": [
    {
     "name": "stdout",
     "output_type": "stream",
     "text": [
      "[2, 4, 8, 78]\n",
      "[3, 5, 9, 23, 67]\n"
     ]
    }
   ],
   "source": [
    "# Print even numbers in the list and odd numbers in a list - \n",
    "L = [2,4,3,5,8,9,23,78,67]\n",
    "even_list = []\n",
    "odd_list = []\n",
    "for i in L:\n",
    "    if i%2==0:\n",
    "        even_list.append(i)\n",
    "    else:\n",
    "        odd_list.append(i)\n",
    "print(even_list)\n",
    "print(odd_list)"
   ]
  },
  {
   "cell_type": "code",
   "execution_count": null,
   "id": "d5b4df09",
   "metadata": {},
   "outputs": [
    {
     "name": "stdout",
     "output_type": "stream",
     "text": [
      "[8, 7, 6, 5, 4, 1]\n",
      "None\n"
     ]
    }
   ],
   "source": [
    "# reverse list - \n",
    "# Way 1 - List Slicing\n",
    "a = [1,4,5,6,7,8]\n",
    "rev = a[::-1]\n",
    "print(rev)\n",
    "\n",
    "# Way 2 - reverse()\n",
    "reve = a.reverse()\n",
    "print(reve)\n",
    "\n",
    "# Way 3 - \n",
    "\n"
   ]
  },
  {
   "cell_type": "code",
   "execution_count": null,
   "id": "13d7a96c",
   "metadata": {},
   "outputs": [],
   "source": []
  }
 ],
 "metadata": {
  "kernelspec": {
   "display_name": "base",
   "language": "python",
   "name": "python3"
  },
  "language_info": {
   "codemirror_mode": {
    "name": "ipython",
    "version": 3
   },
   "file_extension": ".py",
   "mimetype": "text/x-python",
   "name": "python",
   "nbconvert_exporter": "python",
   "pygments_lexer": "ipython3",
   "version": "3.10.10"
  }
 },
 "nbformat": 4,
 "nbformat_minor": 5
}
