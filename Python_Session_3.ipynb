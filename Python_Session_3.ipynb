{
 "cells": [
  {
   "cell_type": "markdown",
   "id": "94277cf7",
   "metadata": {},
   "source": [
    "### Python Data Structures -"
   ]
  },
  {
   "cell_type": "markdown",
   "id": "9bee8338",
   "metadata": {},
   "source": [
    "### List -\n",
    "Q1 . What are Lists ?\n",
    "Ans - List is a datatype where you can store multiple items under 1 name. More technically lists act like dynamic arrays which means you can add more items on the fly.\n",
    "Eg - L = [20,'Jessa',35.75,[30,60,90]]\n",
    "          L[0] L[1]  L[2]   L[3]\n",
    "\n",
    "Q2 . Array Vs Lists -\n",
    "- Fixed Vs Dynamic Size\n",
    "- Convenience -> Hetrogeneous\n",
    "- Speed of Execution - Python list are slower (Disadvantage)\n",
    "- Memory - Python list occupy more space than arrays (Disadvantage)\n",
    "\n",
    "Q3. How Lists are stored in memory - \n",
    "Ans - Stores address of the element in the memory (stores address of the element in an array type) (Referential array)\n",
    "Eg - L = [1,2,3]\n",
    "     print(id(L[1])) # gives address of the first element of the list\n",
    "\n",
    "- Characteristics of a List -\n",
    " - Ordered\n",
    " - Changeble/Mutable\n",
    " - Hetrogeneous \n",
    " - Can have duplicates\n",
    " - are dynamic\n",
    " - can be nested\n",
    " - items can be accessed\n",
    " - can contain any kind of objects in python\n"
   ]
  },
  {
   "cell_type": "code",
   "execution_count": 6,
   "id": "f5177845",
   "metadata": {},
   "outputs": [
    {
     "name": "stdout",
     "output_type": "stream",
     "text": [
      "[]\n",
      "[1, 2, 3, 4, 5]\n",
      "[1, 2, 3, [4, 5]]\n",
      "[[[1, 2], [3, 4]], [[5, 6], [7, 8]]]\n",
      "[1, True, 5, 6, (5+6j), 'Hello']\n",
      "['h', 'e', 'l', 'l', 'o']\n"
     ]
    }
   ],
   "source": [
    "# Creating a List -\n",
    "# Empty list-\n",
    "L = []\n",
    "print(L)\n",
    "# 1-D -> Homogeneous list\n",
    "print([1,2,3,4,5])\n",
    "# 2D -> Heterogeneous list\n",
    "print([1,2,3,[4,5]])\n",
    "# 3D -> Homogeneous list\n",
    "print([[[1,2],[3,4]],[[5,6],[7,8]]])\n",
    "#Heterogeneous \n",
    "print([1,True,5,6,5+6j,'Hello'])\n",
    "# Using Type Conversion -\n",
    "print(list('hello'))"
   ]
  },
  {
   "cell_type": "code",
   "execution_count": 13,
   "id": "983d4039",
   "metadata": {},
   "outputs": [
    {
     "name": "stdout",
     "output_type": "stream",
     "text": [
      "1\n",
      "3\n",
      "[4, 5]\n",
      "4\n",
      "5\n",
      "4\n",
      "[1, 2, 3]\n"
     ]
    }
   ],
   "source": [
    "# Accessing items from a list -\n",
    "# Indexing - Positive Indexing\n",
    "L = [1,2,3,4,5]\n",
    "print(L[0])\n",
    "print(L[-3]) # Negative Indexing \n",
    "L = [1,2,3,[4,5]]\n",
    "print(L[-1])\n",
    "print(L[-1][-2])\n",
    "print(L[-1][-1])\n",
    "print(L[-1][0])\n",
    "# Slicing -\n",
    "L = [1,2,3,4,5,6]\n",
    "print(L[0:3])"
   ]
  },
  {
   "cell_type": "code",
   "execution_count": 14,
   "id": "cfb3dae8",
   "metadata": {},
   "outputs": [
    {
     "name": "stdout",
     "output_type": "stream",
     "text": [
      "[2, 4]\n"
     ]
    }
   ],
   "source": [
    "L = [1,2,3,4,5,6]\n",
    "print(L[-5:-2:2])"
   ]
  },
  {
   "cell_type": "code",
   "execution_count": 18,
   "id": "060f2d54",
   "metadata": {},
   "outputs": [
    {
     "name": "stdout",
     "output_type": "stream",
     "text": [
      "[1, 2, 3, 4, 5, 6, True]\n",
      "[1, 2, 3, 4, 5, 6, 7, 8]\n"
     ]
    }
   ],
   "source": [
    "# Adding Items to a List -\n",
    "# append\n",
    "L = [1,2,3,4,5]\n",
    "L.append(6)\n",
    "L.append(True)\n",
    "print(L)\n",
    "\n",
    "# extend - adds multiple items in the list\n",
    "L = [1,2,3,4,5]\n",
    "L.extend([6,7,8])\n",
    "print(L)"
   ]
  },
  {
   "cell_type": "code",
   "execution_count": 19,
   "id": "2b2ceb01",
   "metadata": {},
   "outputs": [
    {
     "name": "stdout",
     "output_type": "stream",
     "text": [
      "[1, 2, 3, 4, 5, [6, 7, 8]]\n"
     ]
    }
   ],
   "source": [
    "L = [1,2,3,4,5]\n",
    "L.append([6,7,8])\n",
    "print(L)"
   ]
  },
  {
   "cell_type": "code",
   "execution_count": null,
   "id": "6c88f9d0",
   "metadata": {},
   "outputs": [
    {
     "name": "stdout",
     "output_type": "stream",
     "text": [
      "[1, 2, 3, 4, 5, 'd', 'e', 'l', 'h', 'i']\n"
     ]
    }
   ],
   "source": [
    "L = [1,2,3,4,5]\n",
    "L.extend('delhi')\n",
    "print(L)\n",
    "# append - adds single item in the list\n",
    "# extend - adds multiple items in the list"
   ]
  },
  {
   "cell_type": "code",
   "execution_count": 22,
   "id": "7c9bdc87",
   "metadata": {},
   "outputs": [
    {
     "name": "stdout",
     "output_type": "stream",
     "text": [
      "[1, 100, 2, 3, 4, 5]\n"
     ]
    }
   ],
   "source": [
    "# insert -\n",
    "L = [1,2,3,4,5]\n",
    "L.insert(1,100)\n",
    "print(L)"
   ]
  },
  {
   "cell_type": "code",
   "execution_count": null,
   "id": "d1cf2569",
   "metadata": {},
   "outputs": [],
   "source": []
  }
 ],
 "metadata": {
  "kernelspec": {
   "display_name": "base",
   "language": "python",
   "name": "python3"
  },
  "language_info": {
   "codemirror_mode": {
    "name": "ipython",
    "version": 3
   },
   "file_extension": ".py",
   "mimetype": "text/x-python",
   "name": "python",
   "nbconvert_exporter": "python",
   "pygments_lexer": "ipython3",
   "version": "3.10.10"
  }
 },
 "nbformat": 4,
 "nbformat_minor": 5
}
