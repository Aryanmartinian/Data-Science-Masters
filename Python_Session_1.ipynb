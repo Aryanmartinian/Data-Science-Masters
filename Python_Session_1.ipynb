{
 "cells": [
  {
   "cell_type": "markdown",
   "id": "45a1839f",
   "metadata": {},
   "source": [
    "### Python Basics - "
   ]
  },
  {
   "cell_type": "code",
   "execution_count": 1,
   "id": "9d1184be",
   "metadata": {},
   "outputs": [
    {
     "name": "stdout",
     "output_type": "stream",
     "text": [
      "Hello World\n"
     ]
    }
   ],
   "source": [
    "# Python is a case sensitive language\n",
    "print('Hello World')"
   ]
  },
  {
   "cell_type": "code",
   "execution_count": 1,
   "id": "7fbc70db",
   "metadata": {},
   "outputs": [
    {
     "name": "stdout",
     "output_type": "stream",
     "text": [
      "7.7\n"
     ]
    }
   ],
   "source": [
    "print(7.7)"
   ]
  },
  {
   "cell_type": "code",
   "execution_count": 2,
   "id": "e33d5329",
   "metadata": {},
   "outputs": [
    {
     "name": "stdout",
     "output_type": "stream",
     "text": [
      "True\n"
     ]
    }
   ],
   "source": [
    "print(True)"
   ]
  },
  {
   "cell_type": "code",
   "execution_count": 3,
   "id": "0f17d3be",
   "metadata": {},
   "outputs": [
    {
     "name": "stdout",
     "output_type": "stream",
     "text": [
      "Hello 1 4.5 True\n"
     ]
    }
   ],
   "source": [
    "print('Hello',1,4.5,True)"
   ]
  },
  {
   "cell_type": "code",
   "execution_count": 4,
   "id": "9d0f637b",
   "metadata": {},
   "outputs": [
    {
     "name": "stdout",
     "output_type": "stream",
     "text": [
      "Hello/1/4.5\n"
     ]
    }
   ],
   "source": [
    "print('Hello',1,4.5,sep='/')"
   ]
  },
  {
   "cell_type": "code",
   "execution_count": 5,
   "id": "98e02249",
   "metadata": {},
   "outputs": [
    {
     "name": "stdout",
     "output_type": "stream",
     "text": [
      "hello\n",
      "World\n"
     ]
    }
   ],
   "source": [
    "print('hello')\n",
    "print('World')"
   ]
  },
  {
   "cell_type": "code",
   "execution_count": 7,
   "id": "fcb842c9",
   "metadata": {},
   "outputs": [
    {
     "name": "stdout",
     "output_type": "stream",
     "text": [
      "hello-world\n"
     ]
    }
   ],
   "source": [
    "print('hello',end='-')\n",
    "print('world')"
   ]
  },
  {
   "cell_type": "markdown",
   "id": "bef7dd43",
   "metadata": {},
   "source": [
    "### 2. Data Types "
   ]
  },
  {
   "cell_type": "code",
   "execution_count": null,
   "id": "15f2d436",
   "metadata": {},
   "outputs": [
    {
     "name": "stdout",
     "output_type": "stream",
     "text": [
      "inf\n"
     ]
    }
   ],
   "source": [
    "print(1e309) # 1*10^309"
   ]
  },
  {
   "cell_type": "code",
   "execution_count": null,
   "id": "9d87b31c",
   "metadata": {},
   "outputs": [
    {
     "name": "stdout",
     "output_type": "stream",
     "text": [
      "1e+308\n"
     ]
    }
   ],
   "source": [
    "print(1e308) # Python integer data type can handle till the value of 10^308"
   ]
  },
  {
   "cell_type": "code",
   "execution_count": null,
   "id": "a3d1eb50",
   "metadata": {},
   "outputs": [
    {
     "name": "stdout",
     "output_type": "stream",
     "text": [
      "8.55\n",
      "1.7e+300\n"
     ]
    }
   ],
   "source": [
    "# Decimal/Float\n",
    "print(8.55)\n",
    "print(1.7e300) # Maximum Float value that Python can handle"
   ]
  },
  {
   "cell_type": "code",
   "execution_count": 11,
   "id": "4c1fd4df",
   "metadata": {},
   "outputs": [
    {
     "name": "stdout",
     "output_type": "stream",
     "text": [
      "True\n",
      "False\n"
     ]
    }
   ],
   "source": [
    "# Boolean -\n",
    "print(True)\n",
    "print(False)"
   ]
  },
  {
   "cell_type": "code",
   "execution_count": 12,
   "id": "464f79e1",
   "metadata": {},
   "outputs": [
    {
     "name": "stdout",
     "output_type": "stream",
     "text": [
      "(5+6j)\n"
     ]
    }
   ],
   "source": [
    "# complex -\n",
    "print(5+6j)"
   ]
  },
  {
   "cell_type": "code",
   "execution_count": 13,
   "id": "d8f28c69",
   "metadata": {},
   "outputs": [
    {
     "name": "stdout",
     "output_type": "stream",
     "text": [
      "[1, 2, 3, 4, 5]\n"
     ]
    }
   ],
   "source": [
    "# List -> Array\n",
    "print([1,2,3,4,5])"
   ]
  },
  {
   "cell_type": "code",
   "execution_count": 14,
   "id": "9e10c7e8",
   "metadata": {},
   "outputs": [
    {
     "name": "stdout",
     "output_type": "stream",
     "text": [
      "(1, 2, 3, 4, 5)\n"
     ]
    }
   ],
   "source": [
    "# Tuple \n",
    "print((1,2,3,4,5))"
   ]
  },
  {
   "cell_type": "code",
   "execution_count": 15,
   "id": "c6b39d97",
   "metadata": {},
   "outputs": [
    {
     "name": "stdout",
     "output_type": "stream",
     "text": [
      "{1, 2, 3, 4, 5}\n"
     ]
    }
   ],
   "source": [
    "# Sets\n",
    "print({1,2,3,4,5})"
   ]
  },
  {
   "cell_type": "code",
   "execution_count": 16,
   "id": "92c0211d",
   "metadata": {},
   "outputs": [
    {
     "name": "stdout",
     "output_type": "stream",
     "text": [
      "{'name': 'Aryan', 'gender': 'Male'}\n"
     ]
    }
   ],
   "source": [
    "# Dictionary \n",
    "print({'name':'Aryan','gender':'Male'})"
   ]
  },
  {
   "cell_type": "code",
   "execution_count": 17,
   "id": "001adef2",
   "metadata": {},
   "outputs": [
    {
     "name": "stdout",
     "output_type": "stream",
     "text": [
      "Best skills\n"
     ]
    }
   ],
   "source": [
    "# Text/ String - Python does not have character datatype\n",
    "print(\"Best skills\")"
   ]
  },
  {
   "cell_type": "code",
   "execution_count": 19,
   "id": "2a19c7ab",
   "metadata": {},
   "outputs": [
    {
     "data": {
      "text/plain": [
       "list"
      ]
     },
     "execution_count": 19,
     "metadata": {},
     "output_type": "execute_result"
    }
   ],
   "source": [
    "type(3.5)\n",
    "type(3)\n",
    "type([1,2,3])"
   ]
  },
  {
   "cell_type": "markdown",
   "id": "96eccd09",
   "metadata": {},
   "source": [
    "### 3. Variables"
   ]
  },
  {
   "cell_type": "code",
   "execution_count": 20,
   "id": "a873be9b",
   "metadata": {},
   "outputs": [
    {
     "name": "stdout",
     "output_type": "stream",
     "text": [
      "Aryan\n"
     ]
    }
   ],
   "source": [
    "name = 'Aryan'\n",
    "print(name)"
   ]
  },
  {
   "cell_type": "code",
   "execution_count": 21,
   "id": "c2928891",
   "metadata": {},
   "outputs": [
    {
     "name": "stdout",
     "output_type": "stream",
     "text": [
      "11\n"
     ]
    }
   ],
   "source": [
    "a = 5\n",
    "b = 6\n",
    "print(a+b)"
   ]
  },
  {
   "cell_type": "code",
   "execution_count": 23,
   "id": "fe464e6c",
   "metadata": {},
   "outputs": [
    {
     "name": "stdout",
     "output_type": "stream",
     "text": [
      "5\n"
     ]
    }
   ],
   "source": [
    "# Dynamic Typing -\n",
    "a = 5 \n",
    "print(a)"
   ]
  },
  {
   "cell_type": "code",
   "execution_count": null,
   "id": "e092d87a",
   "metadata": {},
   "outputs": [
    {
     "name": "stdout",
     "output_type": "stream",
     "text": [
      "5\n",
      "Aryan\n"
     ]
    }
   ],
   "source": [
    "# Dynamic Binding - Value of a variable can be changed in the program which is not possible in java and cpp as they support static binding\n",
    "a = 5\n",
    "print(a)\n",
    "a = \"Aryan\"\n",
    "print(a)"
   ]
  },
  {
   "cell_type": "code",
   "execution_count": 25,
   "id": "a9058896",
   "metadata": {},
   "outputs": [
    {
     "name": "stdout",
     "output_type": "stream",
     "text": [
      "1 2 3\n"
     ]
    }
   ],
   "source": [
    "a,b,c = 1,2,3\n",
    "print(a,b,c)"
   ]
  },
  {
   "cell_type": "markdown",
   "id": "cf0a6a57",
   "metadata": {},
   "source": [
    "### 5. User Input "
   ]
  },
  {
   "cell_type": "code",
   "execution_count": 26,
   "id": "beb25467",
   "metadata": {},
   "outputs": [
    {
     "data": {
      "text/plain": [
       "'aryan.martinian@gmail.com'"
      ]
     },
     "execution_count": 26,
     "metadata": {},
     "output_type": "execute_result"
    }
   ],
   "source": [
    "input(\"Enter Email\")"
   ]
  },
  {
   "cell_type": "code",
   "execution_count": 28,
   "id": "822c4df9",
   "metadata": {},
   "outputs": [
    {
     "name": "stdout",
     "output_type": "stream",
     "text": [
      "9\n"
     ]
    }
   ],
   "source": [
    "a = int(input(\"Enter the number:\"))\n",
    "b = int(input(\"Enter the second number\"))\n",
    "c = a+b\n",
    "print(c)"
   ]
  },
  {
   "cell_type": "code",
   "execution_count": null,
   "id": "2c8b1772",
   "metadata": {},
   "outputs": [
    {
     "data": {
      "text/plain": [
       "int"
      ]
     },
     "execution_count": 30,
     "metadata": {},
     "output_type": "execute_result"
    }
   ],
   "source": [
    "# Type Conversion - Implicit vs Explicit \n",
    "# Implicit - the conversion happened by the interpreter itself\n",
    "# Explicit - the conversion happened by the program\n",
    "type(int('4')) # Explicit Conversion "
   ]
  },
  {
   "cell_type": "code",
   "execution_count": 31,
   "id": "1344534d",
   "metadata": {},
   "outputs": [
    {
     "name": "stdout",
     "output_type": "stream",
     "text": [
      "This is Python\n",
      "This is Python\n",
      "C\n",
      "This is a multiline string with more than one line code.\n",
      "😀😆🤣\n",
      "raw \\n string\n"
     ]
    }
   ],
   "source": [
    "string = \"This is Python\"\n",
    "strings = \"This is Python\"\n",
    "char = \"C\"\n",
    "multiline_str = \"\"\"This is a multiline string with more than one line code.\"\"\"\n",
    "unicode = u\"\\U0001f600\\U0001F606\\U0001F923\"\n",
    "raw_str = r\"raw \\n string\"\n",
    "\n",
    "print(string)\n",
    "print(strings)\n",
    "print(char)\n",
    "print(multiline_str)\n",
    "print(unicode)\n",
    "print(raw_str)"
   ]
  },
  {
   "cell_type": "code",
   "execution_count": null,
   "id": "9b6173bd",
   "metadata": {},
   "outputs": [
    {
     "name": "stdout",
     "output_type": "stream",
     "text": [
      "a: 5\n",
      "b: 10\n"
     ]
    }
   ],
   "source": [
    "a = True+4 # True - 1 \n",
    "b = False+10 # False - 0\n",
    "print(\"a:\",a)\n",
    "print(\"b:\",b)"
   ]
  },
  {
   "cell_type": "code",
   "execution_count": 33,
   "id": "c7d7913e",
   "metadata": {},
   "outputs": [
    {
     "name": "stdout",
     "output_type": "stream",
     "text": [
      "None\n"
     ]
    }
   ],
   "source": [
    "a = None\n",
    "print(a)"
   ]
  },
  {
   "cell_type": "markdown",
   "id": "42002877",
   "metadata": {},
   "source": [
    "### Operators -\n",
    "   - Arithmetic Operators\n",
    "   - Relational Operators\n",
    "   - Logical Operators\n",
    "   - Bitwise Operators\n",
    "   - Assignment Operators\n",
    "   - Membership Operators"
   ]
  },
  {
   "cell_type": "code",
   "execution_count": 37,
   "id": "7287581a",
   "metadata": {},
   "outputs": [
    {
     "name": "stdout",
     "output_type": "stream",
     "text": [
      "11\n",
      "-1\n",
      "30\n",
      "0.8333333333333334\n",
      "2\n",
      "1\n",
      "25\n"
     ]
    }
   ],
   "source": [
    "# Arithmetic Operators - \n",
    "print(5+6)\n",
    "print(5-6)\n",
    "print(5*6)\n",
    "print(5/6)\n",
    "print(5//2)\n",
    "print(5%2)\n",
    "print(5**2)"
   ]
  },
  {
   "cell_type": "code",
   "execution_count": 38,
   "id": "a2e6dc67",
   "metadata": {},
   "outputs": [
    {
     "name": "stdout",
     "output_type": "stream",
     "text": [
      "True\n",
      "True\n",
      "True\n",
      "True\n",
      "False\n"
     ]
    }
   ],
   "source": [
    "# Relational Operators -\n",
    "print(4<5)\n",
    "print(4>=4)\n",
    "print(4<=4)\n",
    "print(4==4)\n",
    "print(4!=4)"
   ]
  },
  {
   "cell_type": "code",
   "execution_count": 41,
   "id": "2d055f4f",
   "metadata": {},
   "outputs": [
    {
     "name": "stdout",
     "output_type": "stream",
     "text": [
      "0\n",
      "1\n",
      "1\n",
      "False\n"
     ]
    }
   ],
   "source": [
    "# Logical Operators -\n",
    "print(1 and 0)\n",
    "print(1 and 1)\n",
    "print(1 or 0)\n",
    "print(not 1)"
   ]
  },
  {
   "cell_type": "code",
   "execution_count": null,
   "id": "939fbb14",
   "metadata": {},
   "outputs": [
    {
     "name": "stdout",
     "output_type": "stream",
     "text": [
      "2\n",
      "3\n",
      "1\n",
      "-4\n",
      "1\n",
      "20\n"
     ]
    }
   ],
   "source": [
    "# Bitwise Operators \n",
    "\n",
    "# bitwise and \n",
    "print(2 & 3)\n",
    "\n",
    "# bitwise or \n",
    "print(2 | 3)\n",
    "\n",
    "# bitwise xor \n",
    "print(2 ^ 3)\n",
    "\n",
    "# bitwise not\n",
    "print(~3) # 1 change to 0 , 0 change to 1\n",
    "\n",
    "# bitwise left shift\n",
    "print(4 >> 2)\n",
    "\n",
    "# bitwise right shift \n",
    "print(5<<2)\n"
   ]
  },
  {
   "cell_type": "code",
   "execution_count": null,
   "id": "e88112c7",
   "metadata": {},
   "outputs": [
    {
     "name": "stdout",
     "output_type": "stream",
     "text": [
      "4\n"
     ]
    }
   ],
   "source": [
    "# Assignment Operators -\n",
    "\n",
    "# = \n",
    "# a = 2 \n",
    "\n",
    "a =2\n",
    "a+=2 # a = a + 2\n",
    "print(a)\n",
    "\n",
    "a %= 2\n",
    "\n",
    "# a++ ++a = in python it is not possible "
   ]
  },
  {
   "cell_type": "code",
   "execution_count": 13,
   "id": "ed56c749",
   "metadata": {},
   "outputs": [
    {
     "name": "stdout",
     "output_type": "stream",
     "text": [
      "True\n",
      "False\n",
      "False\n"
     ]
    }
   ],
   "source": [
    "# Membership Operators - \n",
    "# in/not in\n",
    "\n",
    "print('D' in 'Delhi')\n",
    "\n",
    "print(\"Agra\" not in \"Agra Express\")\n",
    "print(1 in [2,3,4,5,6])"
   ]
  },
  {
   "cell_type": "code",
   "execution_count": 1,
   "id": "9d4495fa",
   "metadata": {},
   "outputs": [
    {
     "name": "stdout",
     "output_type": "stream",
     "text": [
      "6\n"
     ]
    }
   ],
   "source": [
    "# Program - Find the sum of a 3 digit number entered by the user\n",
    "\n",
    "number = int(input('Enter a 3 digit number'))\n",
    "sum = 0\n",
    "while number>0:\n",
    "    r = number % 10\n",
    "    sum+=r\n",
    "    number = number//10\n",
    "print(sum)"
   ]
  },
  {
   "cell_type": "code",
   "execution_count": 2,
   "id": "eb87441a",
   "metadata": {},
   "outputs": [
    {
     "name": "stdout",
     "output_type": "stream",
     "text": [
      "12\n"
     ]
    }
   ],
   "source": [
    "# Another approach - \n",
    "number = int(input('Enter a 3 digit number'))\n",
    "\n",
    "# 345%10 - 5\n",
    "a = number % 10\n",
    "number =number//10\n",
    "\n",
    "# 34%10 - 4\n",
    "b  = number % 10\n",
    "number = number//10\n",
    "\n",
    "# 3 %  10 - 3\n",
    "c = number % 10\n",
    "\n",
    "print(a+b+c)"
   ]
  },
  {
   "cell_type": "markdown",
   "id": "07ff8b4a",
   "metadata": {},
   "source": [
    "### IF-Else in Python \n"
   ]
  },
  {
   "cell_type": "code",
   "execution_count": 4,
   "id": "60b092be",
   "metadata": {},
   "outputs": [
    {
     "name": "stdout",
     "output_type": "stream",
     "text": [
      "Welcome to the website\n"
     ]
    }
   ],
   "source": [
    "# login program and indentation \n",
    "# email - aryan.leader684@gmail.com\n",
    "# password = 1234\n",
    "email = input('Enter email')\n",
    "password = input('Enter password')\n",
    "\n",
    "if email == 'aryan.leader684@gmail.com' and password == '1234':\n",
    "    print('Welcome to the website')\n",
    "else:\n",
    "    print('Login Error')\n",
    "    "
   ]
  },
  {
   "cell_type": "code",
   "execution_count": 5,
   "id": "4e5f1878",
   "metadata": {},
   "outputs": [
    {
     "name": "stdout",
     "output_type": "stream",
     "text": [
      "Incorrect password\n",
      "Beta tumse na ho paayega!\n"
     ]
    }
   ],
   "source": [
    "email = input('Enter email')\n",
    "password = input('Enter password')\n",
    "\n",
    "if email == 'aryan.leader684@gmail.com' and password == '1234':\n",
    "    print('Welcome to the website')\n",
    "elif email == 'aryan.leader684@gmail.com' and password!= '1234':\n",
    "    print('Incorrect password')\n",
    "    password = input('Enter password again')\n",
    "    if password == '1234':\n",
    "        print('Welcome,finally!')\n",
    "    else:\n",
    "        print('Beta tumse na ho paayega!')\n",
    "else:\n",
    "    print('Login Error')"
   ]
  },
  {
   "cell_type": "code",
   "execution_count": 6,
   "id": "238aca03",
   "metadata": {},
   "outputs": [
    {
     "name": "stdout",
     "output_type": "stream",
     "text": [
      "35\n"
     ]
    }
   ],
   "source": [
    "# Menu Driven Calculator -\n",
    "fnum = int(input(\"Enter the first number\"))\n",
    "snum = int(input(\"Enter the second number\"))\n",
    "\n",
    "op = input(\"Enter the operation\")\n",
    "if op == '+':\n",
    "    print(fnum+snum)\n",
    "elif op == '-':\n",
    "    print(fnum - snum)\n",
    "elif op == '*':\n",
    "    print(fnum*snum)\n",
    "else:\n",
    "    print(fnum/snum)"
   ]
  },
  {
   "cell_type": "code",
   "execution_count": 7,
   "id": "78f8fe5e",
   "metadata": {},
   "outputs": [
    {
     "name": "stdout",
     "output_type": "stream",
     "text": [
      "Pin Change\n"
     ]
    }
   ],
   "source": [
    "# Menu Driven Program 2 -\n",
    "\n",
    "menu = input(\"\"\"\n",
    "Hi! How Can I Help You.\n",
    "1. Enter 1 for pin change\n",
    "2. Enter 2 for balance check\n",
    "3. Enter 3 for withdrawl\n",
    "4. Enter 4 for exit\n",
    "\"\"\")\n",
    "\n",
    "if menu == '1':\n",
    "    print(\"Pin Change\")\n",
    "elif menu == '2':\n",
    "    print('Balance')\n",
    "else:\n",
    "    print('Exit')"
   ]
  },
  {
   "cell_type": "markdown",
   "id": "8536c37e",
   "metadata": {},
   "source": [
    "### Modules in Python\n",
    "\n",
    "- math\n",
    "- keywords\n",
    "- datetime\n",
    "- random"
   ]
  },
  {
   "cell_type": "code",
   "execution_count": null,
   "id": "a4e02bf4",
   "metadata": {},
   "outputs": [
    {
     "data": {
      "text/plain": [
       "14.0"
      ]
     },
     "execution_count": 10,
     "metadata": {},
     "output_type": "execute_result"
    }
   ],
   "source": [
    "# Basically Module is a Python file in which there are many functions are written and we can use these functions by importing the module.\n",
    "# math \n",
    "import math \n",
    "math.factorial(5)\n",
    "math.floor(6.8)\n",
    "math.sqrt(196)"
   ]
  },
  {
   "cell_type": "code",
   "execution_count": null,
   "id": "b09f6aea",
   "metadata": {},
   "outputs": [
    {
     "name": "stdout",
     "output_type": "stream",
     "text": [
      "['False', 'None', 'True', 'and', 'as', 'assert', 'async', 'await', 'break', 'class', 'continue', 'def', 'del', 'elif', 'else', 'except', 'finally', 'for', 'from', 'global', 'if', 'import', 'in', 'is', 'lambda', 'nonlocal', 'not', 'or', 'pass', 'raise', 'return', 'try', 'while', 'with', 'yield']\n"
     ]
    }
   ],
   "source": [
    "# Keyword \n",
    "import keyword\n",
    "print(keyword.kwlist) # All the Keywords present in Python"
   ]
  },
  {
   "cell_type": "code",
   "execution_count": null,
   "id": "5c5df330",
   "metadata": {},
   "outputs": [
    {
     "name": "stdout",
     "output_type": "stream",
     "text": [
      "30\n"
     ]
    }
   ],
   "source": [
    "# random \n",
    "import random \n",
    "print(random.randint(1,100))"
   ]
  },
  {
   "cell_type": "code",
   "execution_count": 14,
   "id": "716e2936",
   "metadata": {},
   "outputs": [
    {
     "name": "stdout",
     "output_type": "stream",
     "text": [
      "2025-06-30 12:50:33.632744\n"
     ]
    }
   ],
   "source": [
    "# datetime \n",
    "import datetime\n",
    "print(datetime.datetime.now())"
   ]
  },
  {
   "cell_type": "code",
   "execution_count": null,
   "id": "7bbe0654",
   "metadata": {},
   "outputs": [],
   "source": []
  }
 ],
 "metadata": {
  "kernelspec": {
   "display_name": "base",
   "language": "python",
   "name": "python3"
  },
  "language_info": {
   "codemirror_mode": {
    "name": "ipython",
    "version": 3
   },
   "file_extension": ".py",
   "mimetype": "text/x-python",
   "name": "python",
   "nbconvert_exporter": "python",
   "pygments_lexer": "ipython3",
   "version": "3.10.10"
  }
 },
 "nbformat": 4,
 "nbformat_minor": 5
}
