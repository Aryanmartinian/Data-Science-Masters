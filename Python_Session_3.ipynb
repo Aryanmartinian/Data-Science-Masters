{
 "cells": [
  {
   "cell_type": "markdown",
   "id": "94277cf7",
   "metadata": {},
   "source": [
    "### Python Data Structures -"
   ]
  },
  {
   "cell_type": "markdown",
   "id": "9bee8338",
   "metadata": {},
   "source": [
    "### List -\n",
    "Q1 . What are Lists ?\n",
    "Ans - List is a datatype where you can store multiple items under 1 name. More technically lists act like dynamic arrays which means you can add more items on the fly.\n",
    "Eg - L = [20,'Jessa',35.75,[30,60,90]]\n",
    "          L[0] L[1]  L[2]   L[3]\n",
    "\n",
    "Q2 . Array Vs Lists -\n",
    "- Fixed Vs Dynamic Size\n",
    "- Convenience -> Hetrogeneous\n",
    "- Speed of Execution - Python list are slower (Disadvantage)\n",
    "- Memory - Python list occupy more space than arrays (Disadvantage)\n",
    "\n",
    "Q3. How Lists are stored in memory - \n",
    "Ans - Stores address of the element in the memory (stores address of the element in an array type) (Referential array)\n",
    "Eg - L = [1,2,3]\n",
    "     print(id(L[1])) # gives address of the first element of the list\n",
    "\n",
    "- Characteristics of a List -\n",
    " - Ordered\n",
    " - Changeble/Mutable\n",
    " - Hetrogeneous \n",
    " - Can have duplicates\n",
    " - are dynamic\n",
    " - can be nested\n",
    " - items can be accessed\n",
    " - can contain any kind of objects in python\n"
   ]
  },
  {
   "cell_type": "code",
   "execution_count": 6,
   "id": "f5177845",
   "metadata": {},
   "outputs": [
    {
     "name": "stdout",
     "output_type": "stream",
     "text": [
      "[]\n",
      "[1, 2, 3, 4, 5]\n",
      "[1, 2, 3, [4, 5]]\n",
      "[[[1, 2], [3, 4]], [[5, 6], [7, 8]]]\n",
      "[1, True, 5, 6, (5+6j), 'Hello']\n",
      "['h', 'e', 'l', 'l', 'o']\n"
     ]
    }
   ],
   "source": [
    "# Creating a List -\n",
    "# Empty list-\n",
    "L = []\n",
    "print(L)\n",
    "# 1-D -> Homogeneous list\n",
    "print([1,2,3,4,5])\n",
    "# 2D -> Heterogeneous list\n",
    "print([1,2,3,[4,5]])\n",
    "# 3D -> Homogeneous list\n",
    "print([[[1,2],[3,4]],[[5,6],[7,8]]])\n",
    "#Heterogeneous \n",
    "print([1,True,5,6,5+6j,'Hello'])\n",
    "# Using Type Conversion -\n",
    "print(list('hello'))"
   ]
  },
  {
   "cell_type": "code",
   "execution_count": 13,
   "id": "983d4039",
   "metadata": {},
   "outputs": [
    {
     "name": "stdout",
     "output_type": "stream",
     "text": [
      "1\n",
      "3\n",
      "[4, 5]\n",
      "4\n",
      "5\n",
      "4\n",
      "[1, 2, 3]\n"
     ]
    }
   ],
   "source": [
    "# Accessing items from a list -\n",
    "# Indexing - Positive Indexing\n",
    "L = [1,2,3,4,5]\n",
    "print(L[0])\n",
    "print(L[-3]) # Negative Indexing \n",
    "L = [1,2,3,[4,5]]\n",
    "print(L[-1])\n",
    "print(L[-1][-2])\n",
    "print(L[-1][-1])\n",
    "print(L[-1][0])\n",
    "# Slicing -\n",
    "L = [1,2,3,4,5,6]\n",
    "print(L[0:3])"
   ]
  },
  {
   "cell_type": "code",
   "execution_count": 14,
   "id": "cfb3dae8",
   "metadata": {},
   "outputs": [
    {
     "name": "stdout",
     "output_type": "stream",
     "text": [
      "[2, 4]\n"
     ]
    }
   ],
   "source": [
    "L = [1,2,3,4,5,6]\n",
    "print(L[-5:-2:2])"
   ]
  },
  {
   "cell_type": "code",
   "execution_count": 18,
   "id": "060f2d54",
   "metadata": {},
   "outputs": [
    {
     "name": "stdout",
     "output_type": "stream",
     "text": [
      "[1, 2, 3, 4, 5, 6, True]\n",
      "[1, 2, 3, 4, 5, 6, 7, 8]\n"
     ]
    }
   ],
   "source": [
    "# Adding Items to a List -\n",
    "# append\n",
    "L = [1,2,3,4,5]\n",
    "L.append(6)\n",
    "L.append(True)\n",
    "print(L)\n",
    "\n",
    "# extend - adds multiple items in the list\n",
    "L = [1,2,3,4,5]\n",
    "L.extend([6,7,8])\n",
    "print(L)"
   ]
  },
  {
   "cell_type": "code",
   "execution_count": 19,
   "id": "2b2ceb01",
   "metadata": {},
   "outputs": [
    {
     "name": "stdout",
     "output_type": "stream",
     "text": [
      "[1, 2, 3, 4, 5, [6, 7, 8]]\n"
     ]
    }
   ],
   "source": [
    "L = [1,2,3,4,5]\n",
    "L.append([6,7,8])\n",
    "print(L)"
   ]
  },
  {
   "cell_type": "code",
   "execution_count": null,
   "id": "6c88f9d0",
   "metadata": {},
   "outputs": [
    {
     "name": "stdout",
     "output_type": "stream",
     "text": [
      "[1, 2, 3, 4, 5, 'd', 'e', 'l', 'h', 'i']\n"
     ]
    }
   ],
   "source": [
    "L = [1,2,3,4,5]\n",
    "L.extend('delhi')\n",
    "print(L)\n",
    "# append - adds single item in the list\n",
    "# extend - adds multiple items in the list"
   ]
  },
  {
   "cell_type": "code",
   "execution_count": 22,
   "id": "7c9bdc87",
   "metadata": {},
   "outputs": [
    {
     "name": "stdout",
     "output_type": "stream",
     "text": [
      "[1, 100, 2, 3, 4, 5]\n"
     ]
    }
   ],
   "source": [
    "# insert -\n",
    "L = [1,2,3,4,5]\n",
    "L.insert(1,100)\n",
    "print(L)"
   ]
  },
  {
   "cell_type": "code",
   "execution_count": null,
   "id": "d1cf2569",
   "metadata": {},
   "outputs": [
    {
     "name": "stdout",
     "output_type": "stream",
     "text": [
      "[5, 2, 3, 4]\n",
      "[1, 200, 300, 400, 500]\n"
     ]
    }
   ],
   "source": [
    "# Editing items from  a List -\n",
    "L = [1,2,3,4]\n",
    "L[0] = 5\n",
    "print(L) # List are mutable it can change\n",
    "\n",
    "L = [1,2,3,4,5]\n",
    "# editing with indexing \n",
    "L[-1] = 500\n",
    "# Editing with slicing \n",
    "L[1:4] = [200,300,400]\n",
    "print(L)"
   ]
  },
  {
   "cell_type": "code",
   "execution_count": 25,
   "id": "54d8ac4c",
   "metadata": {},
   "outputs": [
    {
     "name": "stdout",
     "output_type": "stream",
     "text": [
      "[1, 2, 3, 4, 5]\n"
     ]
    },
    {
     "ename": "NameError",
     "evalue": "name 'L' is not defined",
     "output_type": "error",
     "traceback": [
      "\u001b[1;31m---------------------------------------------------------------------------\u001b[0m",
      "\u001b[1;31mNameError\u001b[0m                                 Traceback (most recent call last)",
      "Cell \u001b[1;32mIn[25], line 6\u001b[0m\n\u001b[0;32m      4\u001b[0m \u001b[38;5;28mprint\u001b[39m(L)\n\u001b[0;32m      5\u001b[0m \u001b[38;5;28;01mdel\u001b[39;00m L\n\u001b[1;32m----> 6\u001b[0m \u001b[38;5;28mprint\u001b[39m(\u001b[43mL\u001b[49m)\n",
      "\u001b[1;31mNameError\u001b[0m: name 'L' is not defined"
     ]
    }
   ],
   "source": [
    "# Deleting items from  a list -\n",
    "# del,remove,pop,clear\n",
    "L = [1,2,3,4,5]\n",
    "print(L)\n",
    "del L\n",
    "print(L)"
   ]
  },
  {
   "cell_type": "code",
   "execution_count": 26,
   "id": "ad19df23",
   "metadata": {},
   "outputs": [
    {
     "name": "stdout",
     "output_type": "stream",
     "text": [
      "[1, 2, 3, 4]\n"
     ]
    }
   ],
   "source": [
    "L = [1,2,3,4,5]\n",
    "del L[-1]\n",
    "print(L)"
   ]
  },
  {
   "cell_type": "code",
   "execution_count": 27,
   "id": "b8f28028",
   "metadata": {},
   "outputs": [
    {
     "name": "stdout",
     "output_type": "stream",
     "text": [
      "[1, 4]\n"
     ]
    }
   ],
   "source": [
    "del L[1:3]\n",
    "print(L)"
   ]
  },
  {
   "cell_type": "code",
   "execution_count": 28,
   "id": "87d4c57c",
   "metadata": {},
   "outputs": [
    {
     "name": "stdout",
     "output_type": "stream",
     "text": [
      "[1, 2, 4, 5]\n"
     ]
    }
   ],
   "source": [
    "# remove - \n",
    "L = [1,2,3,4,5]\n",
    "L.remove(3)\n",
    "print(L)"
   ]
  },
  {
   "cell_type": "code",
   "execution_count": 31,
   "id": "80b2a821",
   "metadata": {},
   "outputs": [
    {
     "name": "stdout",
     "output_type": "stream",
     "text": [
      "[1, 2, 3, 4]\n"
     ]
    }
   ],
   "source": [
    "# pop - follows lifo rule -> Last In First Out\n",
    "L = [1,2,3,4,5]\n",
    "L.pop(4) # Index value\n",
    "print(L)"
   ]
  },
  {
   "cell_type": "code",
   "execution_count": 32,
   "id": "4c85af7b",
   "metadata": {},
   "outputs": [
    {
     "name": "stdout",
     "output_type": "stream",
     "text": [
      "[1, 2, 3, 4, 1, 2, 3, 4, 1, 2, 3, 4]\n"
     ]
    }
   ],
   "source": [
    "print(L*3)"
   ]
  },
  {
   "cell_type": "code",
   "execution_count": null,
   "id": "0fd55898",
   "metadata": {},
   "outputs": [
    {
     "name": "stdout",
     "output_type": "stream",
     "text": [
      "False\n",
      "True\n",
      "False\n"
     ]
    }
   ],
   "source": [
    "L1 = [1,2,3,4,5]\n",
    "L2 = [1,2,3,4,[5,6]]\n",
    "\n",
    "print(5 not in  L1)\n",
    "print([5,6] in L2)\n",
    "print(5 not in L1)"
   ]
  },
  {
   "cell_type": "code",
   "execution_count": 41,
   "id": "432c4532",
   "metadata": {},
   "outputs": [
    {
     "name": "stdout",
     "output_type": "stream",
     "text": [
      "1\n",
      "2\n",
      "3\n",
      "4\n",
      "5\n",
      "1 2 3 4 [5, 6] "
     ]
    }
   ],
   "source": [
    "# Loops in List -\n",
    "L1 = [1,2,3,4,5]\n",
    "L2 = [1,2,3,4,[5,6]]\n",
    "for i in L1:\n",
    "    print(i)\n",
    "\n",
    "for i in L2:\n",
    "    print(i,end=' ')\n"
   ]
  },
  {
   "cell_type": "code",
   "execution_count": 42,
   "id": "e19435e5",
   "metadata": {},
   "outputs": [
    {
     "name": "stdout",
     "output_type": "stream",
     "text": [
      "7\n",
      "4\n",
      "98\n",
      "[4, 5, 12, 56, 67, 78, 98]\n"
     ]
    }
   ],
   "source": [
    "# List Functions - len/min/max/sorted\n",
    "L = [12,4,5,56,67,78,98]\n",
    "print(len(L))\n",
    "print(min(L))\n",
    "print(max(L))\n",
    "print(sorted(L))"
   ]
  },
  {
   "cell_type": "code",
   "execution_count": 43,
   "id": "a5859371",
   "metadata": {},
   "outputs": [
    {
     "data": {
      "text/plain": [
       "1"
      ]
     },
     "execution_count": 43,
     "metadata": {},
     "output_type": "execute_result"
    }
   ],
   "source": [
    "# count - \n",
    "L.count(56)"
   ]
  },
  {
   "cell_type": "code",
   "execution_count": 44,
   "id": "19d7b6cf",
   "metadata": {},
   "outputs": [
    {
     "name": "stdout",
     "output_type": "stream",
     "text": [
      "[2, 1, 5, 7, 0]\n",
      "[0, 1, 2, 5, 7]\n"
     ]
    }
   ],
   "source": [
    "# sort - it is permanent the original list will be sorted\n",
    "# sorted - it will be not permanent the original list will remain the same\n",
    "L = [2,1,5,7,0]\n",
    "print(L)\n",
    "L.sort()\n",
    "print(L)"
   ]
  },
  {
   "cell_type": "code",
   "execution_count": 45,
   "id": "30275151",
   "metadata": {},
   "outputs": [
    {
     "name": "stdout",
     "output_type": "stream",
     "text": [
      "[2, 1, 5, 7, 0]\n",
      "2206058817408\n",
      "[2, 1, 5, 7, 0]\n",
      "2206058822976\n"
     ]
    }
   ],
   "source": [
    "# copy \n",
    "L = [2,1,5,7,0]\n",
    "print(L)\n",
    "print(id(L))\n",
    "L1 = L.copy()\n",
    "print(L1)\n",
    "print(id(L1))"
   ]
  },
  {
   "cell_type": "markdown",
   "id": "986af8e9",
   "metadata": {},
   "source": [
    "### List Comprehension - \n",
    "List Comprehension provides a concise way of creating lists.\n",
    "newlist = [expression for item in terable if condition==True]\n",
    "\n",
    "Advantages of List Comprehension -\n",
    "- More time-efficient and space-efficient than loops.\n",
    "- Require fewer lines of code.\n",
    "- Transforms iterative statement into a formula."
   ]
  },
  {
   "cell_type": "code",
   "execution_count": 46,
   "id": "e54da7e6",
   "metadata": {},
   "outputs": [
    {
     "name": "stdout",
     "output_type": "stream",
     "text": [
      "[1, 2, 3, 4, 5, 6, 7, 8, 9, 10]\n"
     ]
    }
   ],
   "source": [
    "# Add 1 to 10 numbers to a list - \n",
    "L = [i for i in range(1,11)]\n",
    "print(L)"
   ]
  },
  {
   "cell_type": "code",
   "execution_count": 47,
   "id": "799648ba",
   "metadata": {},
   "outputs": [
    {
     "name": "stdout",
     "output_type": "stream",
     "text": [
      "[-6, -9, -12]\n"
     ]
    }
   ],
   "source": [
    "# scalar multiplication on a vector -\n",
    "v = [2,3,4]\n",
    "s = -3\n",
    "L = [s*i for i in v]\n",
    "print(L)"
   ]
  },
  {
   "cell_type": "code",
   "execution_count": 48,
   "id": "8f810853",
   "metadata": {},
   "outputs": [
    {
     "data": {
      "text/plain": [
       "[1, 4, 9, 16, 25]"
      ]
     },
     "execution_count": 48,
     "metadata": {},
     "output_type": "execute_result"
    }
   ],
   "source": [
    "# Add squares - \n",
    "L = [1,2,3,4,5]\n",
    "[i**2 for i in L]\n"
   ]
  },
  {
   "cell_type": "code",
   "execution_count": 49,
   "id": "074df9ee",
   "metadata": {},
   "outputs": [
    {
     "data": {
      "text/plain": [
       "[5, 10, 15, 20, 25, 30, 35, 40, 45, 50]"
      ]
     },
     "execution_count": 49,
     "metadata": {},
     "output_type": "execute_result"
    }
   ],
   "source": [
    "# Print all numbers divisible by 5 in the range of 1 to 50\n",
    "[i for i in range(1,51) if i%5==0]"
   ]
  },
  {
   "cell_type": "code",
   "execution_count": 51,
   "id": "6e248223",
   "metadata": {},
   "outputs": [
    {
     "data": {
      "text/plain": [
       "['python', 'php']"
      ]
     },
     "execution_count": 51,
     "metadata": {},
     "output_type": "execute_result"
    }
   ],
   "source": [
    "# find languages which start with letter p -\n",
    "languages = ['java','python','php','c','javascript']\n",
    "[language for language in languages if language.startswith('p')]"
   ]
  },
  {
   "cell_type": "markdown",
   "id": "2095d794",
   "metadata": {},
   "source": [
    "### Traversing the List - \n",
    "- itemwise\n",
    "- indexwise"
   ]
  },
  {
   "cell_type": "code",
   "execution_count": 52,
   "id": "4fd9fde8",
   "metadata": {},
   "outputs": [
    {
     "name": "stdout",
     "output_type": "stream",
     "text": [
      "1\n",
      "2\n",
      "3\n",
      "4\n"
     ]
    }
   ],
   "source": [
    "# itemwise - \n",
    "L=[1,2,3,4]\n",
    "for i in L:\n",
    "    print(i)"
   ]
  },
  {
   "cell_type": "code",
   "execution_count": 53,
   "id": "5b01b93c",
   "metadata": {},
   "outputs": [
    {
     "name": "stdout",
     "output_type": "stream",
     "text": [
      "1\n",
      "2\n",
      "3\n",
      "4\n"
     ]
    }
   ],
   "source": [
    "# indexwise \n",
    "L = [1,2,3,4]\n",
    "for i in range(0,len(L)):\n",
    "    print(L[i])"
   ]
  },
  {
   "cell_type": "markdown",
   "id": "4dc91463",
   "metadata": {},
   "source": [
    "### Zip-\n",
    "Zip() function returns a zip object which is an iterator of tuples where the first item in each passed iterator is paired together and then the second item in each passed iterator are paired together.\n",
    "\n",
    "If the passed iterators have different lengths,the iterator with the least items decides the length of the new iterator."
   ]
  },
  {
   "cell_type": "code",
   "execution_count": 54,
   "id": "1af06969",
   "metadata": {},
   "outputs": [
    {
     "data": {
      "text/plain": [
       "[0, 0, 0, 0]"
      ]
     },
     "execution_count": 54,
     "metadata": {},
     "output_type": "execute_result"
    }
   ],
   "source": [
    "# Write a program to add items of 2 lists indexwise - \n",
    "L1 = [1,2,3,4]\n",
    "L2 = [-1,-2,-3,-4]\n",
    "\n",
    "list(zip(L1,L2))\n",
    "[i+j for i,j in zip(L1,L2)]"
   ]
  },
  {
   "cell_type": "markdown",
   "id": "7c525f42",
   "metadata": {},
   "source": [
    "### Disadvantages of Python Lists -\n",
    "- Slow\n",
    "- Risky usage\n",
    "- extra memory "
   ]
  },
  {
   "cell_type": "code",
   "execution_count": null,
   "id": "e17e9791",
   "metadata": {},
   "outputs": [],
   "source": []
  }
 ],
 "metadata": {
  "kernelspec": {
   "display_name": "base",
   "language": "python",
   "name": "python3"
  },
  "language_info": {
   "codemirror_mode": {
    "name": "ipython",
    "version": 3
   },
   "file_extension": ".py",
   "mimetype": "text/x-python",
   "name": "python",
   "nbconvert_exporter": "python",
   "pygments_lexer": "ipython3",
   "version": "3.10.10"
  }
 },
 "nbformat": 4,
 "nbformat_minor": 5
}
